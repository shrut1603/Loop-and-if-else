{
  "nbformat": 4,
  "nbformat_minor": 0,
  "metadata": {
    "colab": {
      "name": "Practical-1(Shruti Chille) .ipynb",
      "provenance": [],
      "collapsed_sections": []
    },
    "kernelspec": {
      "name": "python3",
      "display_name": "Python 3"
    },
    "language_info": {
      "name": "python"
    }
  },
  "cells": [
    {
      "cell_type": "markdown",
      "source": [
        "**1.Addition of two numbers** \n",
        "\n",
        "\n",
        "\n",
        "\n",
        "---\n",
        "\n",
        "\n",
        "\n",
        "\n",
        "\n"
      ],
      "metadata": {
        "id": "rK0qbxlFHvlS"
      }
    },
    {
      "cell_type": "code",
      "execution_count": null,
      "metadata": {
        "colab": {
          "base_uri": "https://localhost:8080/"
        },
        "id": "aXSxBUXRGRCu",
        "outputId": "9450636a-83ee-454e-c842-0e86022be087"
      },
      "outputs": [
        {
          "output_type": "stream",
          "name": "stdout",
          "text": [
            "Enter 1 number : 10\n",
            "Enter 2 number : 20\n",
            "Addition of two numbers :  30\n"
          ]
        }
      ],
      "source": [
        "a=input(\"Enter 1 number : \")\n",
        "b=input(\"Enter 2 number : \")\n",
        "\n",
        "sum=int(a)+int(b)\n",
        "\n",
        "print(\"Addition of two numbers : \",sum)"
      ]
    },
    {
      "cell_type": "markdown",
      "source": [
        "**2.Maximum of two numbera in python.**\n",
        "\n",
        "---\n",
        "\n",
        "\n",
        "\n"
      ],
      "metadata": {
        "id": "dECKHdktH427"
      }
    },
    {
      "cell_type": "code",
      "source": [
        "a=input(\"Enter first number : \")\n",
        "b=input(\"Enter second number : \")\n",
        "\n",
        "if(a>b): \n",
        "\n",
        "  print(\"a is greater\")\n",
        "  \n",
        "else: \n",
        "  print(\"b is greater\")\n"
      ],
      "metadata": {
        "colab": {
          "base_uri": "https://localhost:8080/"
        },
        "id": "lCyBVNAYIaf9",
        "outputId": "4d505eb1-ec55-4dd8-afe4-b19e36fab047"
      },
      "execution_count": null,
      "outputs": [
        {
          "output_type": "stream",
          "name": "stdout",
          "text": [
            "Enter first number : 20\n",
            "Enter second number : 10\n",
            "a is greater\n"
          ]
        }
      ]
    },
    {
      "cell_type": "markdown",
      "source": [
        "**3.Factorial of numbers.**\n",
        "\n",
        "---\n",
        "\n"
      ],
      "metadata": {
        "id": "y0YnAva1KbeZ"
      }
    },
    {
      "cell_type": "code",
      "source": [
        "num=input(\"enter number : \")\n",
        "factorial=1 \n",
        "\n",
        "if int(num)<0:\n",
        "\n",
        "  print(\"factorial does not exist for negative numbers\")\n",
        "\n",
        "elif int(num) == 0:\n",
        "    print(\"factorial of 0 is=1\")\n",
        "\n",
        "else:\n",
        "      for i in range(1,int(num)+1):\n",
        "\n",
        "        factorial=factorial*i;\n",
        "\n",
        "        print(\"the factorial of given number is\",factorial) \n"
      ],
      "metadata": {
        "colab": {
          "base_uri": "https://localhost:8080/"
        },
        "id": "V_utzULEKlF_",
        "outputId": "39da0d2c-e22a-45f7-9756-bea31244d1b8"
      },
      "execution_count": null,
      "outputs": [
        {
          "output_type": "stream",
          "name": "stdout",
          "text": [
            "enter number : 6\n",
            "the factorial of given number is 1\n",
            "the factorial of given number is 2\n",
            "the factorial of given number is 6\n",
            "the factorial of given number is 24\n",
            "the factorial of given number is 120\n",
            "the factorial of given number is 720\n"
          ]
        }
      ]
    },
    {
      "cell_type": "markdown",
      "source": [
        "**4.Python program for simple interest.**\n",
        "\n",
        "---\n",
        "\n"
      ],
      "metadata": {
        "id": "czKCisw0Mme8"
      }
    },
    {
      "cell_type": "code",
      "source": [
        "p=input(\"Enter principle          : \")\n",
        "t=input(\"Enter the time of period : \")\n",
        "r=input(\"Enter the rate of interest: \")\n",
        "\n",
        "si=float(p)*int(t)*float(r)/100\n",
        "24\n",
        "print(\"simple interest :\",si)"
      ],
      "metadata": {
        "colab": {
          "base_uri": "https://localhost:8080/"
        },
        "id": "iySTHOUYMtr4",
        "outputId": "22907bdb-7262-428d-cad7-f2285499f273"
      },
      "execution_count": null,
      "outputs": [
        {
          "output_type": "stream",
          "name": "stdout",
          "text": [
            "Enter principle          : 11\n",
            "Enter the time of period : 2\n",
            "Enter the rate of interest: 4\n",
            "simple interest : 0.88\n"
          ]
        }
      ]
    },
    {
      "cell_type": "markdown",
      "source": [
        "**5.Python program for compound interest.**\n",
        "\n",
        "---\n",
        "\n",
        "\n"
      ],
      "metadata": {
        "id": "gfrk3iFiOhQf"
      }
    },
    {
      "cell_type": "code",
      "source": [
        "\n",
        "p = float(input(\"Enter the principle amount : \"))\n",
        "r = float(input(\"Enter the rate of interest : \"))\n",
        "t = float(input(\"Enter the time in the years: \"))\n",
        "\n",
        "ci =  p * (pow((1 + r / 100), t)) \n",
        "\n",
        "print(\"Principle amount  : \", p)\n",
        "print(\"Interest rate     : \", r)\n",
        "print(\"Time in years     : \", t)\n",
        "print(\"compound Interest : \", ci)\n"
      ],
      "metadata": {
        "colab": {
          "base_uri": "https://localhost:8080/"
        },
        "id": "RnmrZ5sMOw4b",
        "outputId": "301bea9c-2bd2-4202-eae8-1287c7bf2793"
      },
      "execution_count": null,
      "outputs": [
        {
          "output_type": "stream",
          "name": "stdout",
          "text": [
            "Enter the principle amount : 10\n",
            "Enter the rate of interest : 20\n",
            "Enter the time in the years: 30\n",
            "Principle amount  :  10.0\n",
            "Interest rate     :  20.0\n",
            "Time in years     :  30.0\n",
            "compound Interest :  2373.7631379976956\n"
          ]
        }
      ]
    },
    {
      "cell_type": "markdown",
      "source": [
        "**6.Python program for armstrong number.**\n",
        "\n",
        "---\n",
        "\n",
        "\n",
        "\n"
      ],
      "metadata": {
        "id": "OxMnom1qO64b"
      }
    },
    {
      "cell_type": "code",
      "source": [
        "number = 15\n",
        "temp = number\n",
        "add_sum = 0\n",
        "\n",
        "while temp!=0:\n",
        "    k = temp%10\n",
        "    add_sum +=k*k*k\n",
        "    temp = temp//10\n",
        "\n",
        "if add_sum==number:\n",
        "\n",
        "    print(\"Armstrong Number\")\n",
        "\n",
        "else:\n",
        "\n",
        "    print(\"Not a Armstrong Number\")\n"
      ],
      "metadata": {
        "colab": {
          "base_uri": "https://localhost:8080/"
        },
        "id": "xxEvczXFPDBk",
        "outputId": "08d5e65a-1f22-4670-e60a-20562857bb0e"
      },
      "execution_count": null,
      "outputs": [
        {
          "output_type": "stream",
          "name": "stdout",
          "text": [
            "Not a Armstrong Number\n"
          ]
        }
      ]
    },
    {
      "cell_type": "markdown",
      "source": [
        "**7.Python program to find area of a circle.**\n",
        "\n",
        "---\n",
        "\n"
      ],
      "metadata": {
        "id": "NEAUzxSSSEgi"
      }
    },
    {
      "cell_type": "code",
      "source": [
        "r=float(input(\"Enter Redius : \"))\n",
        "\n",
        "a=3.14*r*r\n",
        "\n",
        "print(\"Area of circule :\",a)\n"
      ],
      "metadata": {
        "colab": {
          "base_uri": "https://localhost:8080/"
        },
        "id": "04XpcDMSSZ2l",
        "outputId": "d216ad24-2fc7-4cf0-babe-229519b76b73"
      },
      "execution_count": null,
      "outputs": [
        {
          "output_type": "stream",
          "name": "stdout",
          "text": [
            "Enter Redius : 5\n",
            "Area of circule : 78.5\n"
          ]
        }
      ]
    },
    {
      "cell_type": "markdown",
      "source": [
        "**8.Python program to print all prime numbers in an interval.**\n",
        "\n",
        "---\n",
        "\n",
        "\n"
      ],
      "metadata": {
        "id": "h_72Nv8kTAKX"
      }
    },
    {
      "cell_type": "code",
      "source": [
        "def prime_no(num):\n",
        "    if num > 1:\n",
        "       for i in range(2, num):\n",
        "           if (num % i) == 0:\n",
        "               break\n",
        "       else:\n",
        "           print(num,end=\" \")\n",
        "    \n",
        "lower  = int(input(\"enter starting limit: \"))\n",
        "upper  = int(input(\"enter ending limit limit: \"))\n",
        "\n",
        "print(\"Prime numbers between\", lower , \"and\", upper , \"are:\")\n",
        "\n",
        "for i in range(lower, upper + 1):\n",
        "   prime_no(i)"
      ],
      "metadata": {
        "colab": {
          "base_uri": "https://localhost:8080/"
        },
        "id": "D6RXeuUTTNHY",
        "outputId": "b8e65613-f08d-4a4b-ee4a-43ad5cf48efc"
      },
      "execution_count": null,
      "outputs": [
        {
          "output_type": "stream",
          "name": "stdout",
          "text": [
            "enter starting limit: 10\n",
            "enter ending limit limit: 20\n",
            "Prime numbers between 10 and 20 are:\n",
            "11 13 17 19 "
          ]
        }
      ]
    },
    {
      "cell_type": "markdown",
      "source": [
        "**9.Python program to check whether a number is prime or not.**\n",
        "\n",
        "---\n",
        "\n"
      ],
      "metadata": {
        "id": "uQl0o4okVKsc"
      }
    },
    {
      "cell_type": "code",
      "source": [
        "num = 11\n",
        "\n",
        "if num > 1: \n",
        "\n",
        "    for i in range(2, int(num/2)+1): \n",
        "        if (num % i) == 0: \n",
        "        \n",
        "            print(num, \"is not a prime number\") \n",
        "\n",
        "            break\n",
        "\n",
        "    else: \n",
        "\n",
        "        print(num, \"is a prime number\") \n",
        "\n",
        "else: \n",
        "\n",
        "    print(num, \"is not a prime number\") \n",
        "    \n"
      ],
      "metadata": {
        "colab": {
          "base_uri": "https://localhost:8080/"
        },
        "id": "lGTM6AEgVUis",
        "outputId": "06521b6b-0643-4960-e998-2f9429bfa432"
      },
      "execution_count": null,
      "outputs": [
        {
          "output_type": "stream",
          "name": "stdout",
          "text": [
            "11 is a prime number\n"
          ]
        }
      ]
    },
    {
      "cell_type": "markdown",
      "source": [
        "**10.Python program for n-th Fibonacci number.**\n",
        "\n",
        "---\n",
        "\n"
      ],
      "metadata": {
        "id": "iwUG90gqW8cC"
      }
    },
    {
      "cell_type": "code",
      "source": [
        "n = int(input(\"Enter the value of n : \"))\n",
        "a = 0\n",
        "b = 1\n",
        "sum = 0\n",
        "count = 1\n",
        "print(\"Fibonacci Series: \", end = \" \")\n",
        "while(count <= n):\n",
        "  print(sum, end = \" \")\n",
        "  count += 1\n",
        "  a = b\n",
        "  b = sum\n",
        "  sum = a + b"
      ],
      "metadata": {
        "colab": {
          "base_uri": "https://localhost:8080/"
        },
        "id": "eZDKx55BXLes",
        "outputId": "69feb7b6-0c1d-419e-bab2-e4c20f36d551"
      },
      "execution_count": null,
      "outputs": [
        {
          "output_type": "stream",
          "name": "stdout",
          "text": [
            "Enter the value of n : 5\n",
            "Fibonacci Series:  0 1 1 2 3 "
          ]
        }
      ]
    },
    {
      "cell_type": "markdown",
      "source": [
        "**11.How to check if a given number if fibonacci number.**\n",
        "\n",
        "---\n",
        "\n",
        "\n"
      ],
      "metadata": {
        "id": "51hCnw8BaTrP"
      }
    },
    {
      "cell_type": "code",
      "source": [
        "def fib(num):\n",
        "    a = 0\n",
        "    b = 1\n",
        "    while b<num:\n",
        "        c = a+b\n",
        "        a = b\n",
        "        b = c\n",
        "    if b==num or a==num:\n",
        "        return True\n",
        "    if b > num:\n",
        "        return False\n",
        "num = 18\n",
        "if fib(num):\n",
        "    print(num,\"is a fibonacci number.\")\n",
        "else:\n",
        "    print(num,\"is not a fibonacci number.\")"
      ],
      "metadata": {
        "colab": {
          "base_uri": "https://localhost:8080/"
        },
        "id": "nrd3f5ICagNJ",
        "outputId": "64035363-b565-4282-d3db-189e7850e631"
      },
      "execution_count": null,
      "outputs": [
        {
          "output_type": "stream",
          "name": "stdout",
          "text": [
            "18 is not a fibonacci number.\n"
          ]
        }
      ]
    },
    {
      "cell_type": "markdown",
      "source": [
        "**12.Python program for n\\'th multiple of number in fibonacci series.**\n",
        "\n",
        "---\n",
        "\n",
        "\n"
      ],
      "metadata": {
        "id": "m0hR1jJZbKiV"
      }
    },
    {
      "cell_type": "code",
      "source": [
        "def find(k, n):\n",
        "   f1 = 0\n",
        "   f2 = 1\n",
        "   i =2;\n",
        "   while i!=0:\n",
        "      f3 = f1 + f2;\n",
        "      f1 = f2;\n",
        "      f2 = f3;\n",
        "      if f2%k == 0:\n",
        "         return n*i\n",
        "      i+=1\n",
        "   return\n",
        "n = 8;\n",
        "k = 7;\n",
        "print(\"Position of n'th multiple of k in\"\"Fibonacci Series is: \", find(k,n));"
      ],
      "metadata": {
        "colab": {
          "base_uri": "https://localhost:8080/"
        },
        "id": "Mx8ipr5uim5x",
        "outputId": "38947ecd-c2e7-4072-b20c-23898573f8cf"
      },
      "execution_count": null,
      "outputs": [
        {
          "output_type": "stream",
          "name": "stdout",
          "text": [
            "Position of n'th multiple of k inFibonacci Series is:  64\n"
          ]
        }
      ]
    },
    {
      "cell_type": "markdown",
      "source": [
        "**13.Program to print ASCII Value of a character.**\n",
        "\n",
        "---\n",
        "\n"
      ],
      "metadata": {
        "id": "u7mLdK7Fcd1P"
      }
    },
    {
      "cell_type": "code",
      "source": [
        "char=str(input(\"Enter Character : \"))\n",
        "\n",
        "print(f\"The ASCII Value of Character {char} is : \",ord(char))"
      ],
      "metadata": {
        "colab": {
          "base_uri": "https://localhost:8080/"
        },
        "id": "HjTvYlV1cktx",
        "outputId": "c3209094-71c8-45d7-ffd8-5213a0f8c0a9"
      },
      "execution_count": null,
      "outputs": [
        {
          "output_type": "stream",
          "name": "stdout",
          "text": [
            "Enter Character : S\n",
            "The ASCII Value of Character S is :  83\n"
          ]
        }
      ]
    },
    {
      "cell_type": "markdown",
      "source": [
        "14.Python program for sum of squares of first n natural numbers."
      ],
      "metadata": {
        "id": "dR7BOT43dVBn"
      }
    },
    {
      "cell_type": "code",
      "source": [
        "num=int(input(\"Enter number : \"))\n",
        "sum=0\n",
        "\n",
        "for i in range(1,num+1):\n",
        "  sum=sum+(i*i)\n",
        "\n",
        "  print(\"Sum of squres = \",sum)"
      ],
      "metadata": {
        "colab": {
          "base_uri": "https://localhost:8080/"
        },
        "id": "h3R5wkOYdrH1",
        "outputId": "88760f8e-ce15-4b65-c6c6-b71fca78fbfa"
      },
      "execution_count": null,
      "outputs": [
        {
          "output_type": "stream",
          "name": "stdout",
          "text": [
            "Enter number : 5\n",
            "Sum of squres =  1\n",
            "Sum of squres =  5\n",
            "Sum of squres =  14\n",
            "Sum of squres =  30\n",
            "Sum of squres =  55\n"
          ]
        }
      ]
    },
    {
      "cell_type": "markdown",
      "source": [
        "**15.Python program for cube sum of first n natural numbers.**\n",
        "\n",
        "---\n",
        "\n"
      ],
      "metadata": {
        "id": "9SmdqVw5diWR"
      }
    },
    {
      "cell_type": "code",
      "source": [
        "num=int(input(\"Enter number : \"))\n",
        "sum=0\n",
        "\n",
        "for i in range(1,num+1):\n",
        "  sum=sum+(i*i*i)\n",
        "\n",
        "  print(\"Sum of cube = \",sum)"
      ],
      "metadata": {
        "colab": {
          "base_uri": "https://localhost:8080/"
        },
        "id": "33VHD_n9dgrA",
        "outputId": "4ccb62fe-6268-412a-9d18-e005dd00592f"
      },
      "execution_count": null,
      "outputs": [
        {
          "output_type": "stream",
          "name": "stdout",
          "text": [
            "Enter number : 5\n",
            "Sum of cube =  1\n",
            "Sum of cube =  9\n",
            "Sum of cube =  36\n",
            "Sum of cube =  100\n",
            "Sum of cube =  225\n"
          ]
        }
      ]
    }
  ]
}